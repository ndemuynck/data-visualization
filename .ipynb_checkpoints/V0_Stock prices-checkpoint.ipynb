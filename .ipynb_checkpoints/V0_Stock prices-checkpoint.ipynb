{
 "cells": [
  {
   "cell_type": "code",
   "execution_count": 1,
   "metadata": {},
   "outputs": [],
   "source": [
    "import numpy as np\n",
    "import pandas as pd\n",
    "import pandas_datareader as pdr\n",
    "from pandas.plotting import register_matplotlib_converters\n",
    "import matplotlib.pyplot as plt\n",
    "import seaborn as sns\n",
    "register_matplotlib_converters ()"
   ]
  },
  {
   "cell_type": "code",
   "execution_count": 75,
   "metadata": {},
   "outputs": [
    {
     "data": {
      "text/html": [
       "<div>\n",
       "<style scoped>\n",
       "    .dataframe tbody tr th:only-of-type {\n",
       "        vertical-align: middle;\n",
       "    }\n",
       "\n",
       "    .dataframe tbody tr th {\n",
       "        vertical-align: top;\n",
       "    }\n",
       "\n",
       "    .dataframe thead th {\n",
       "        text-align: right;\n",
       "    }\n",
       "</style>\n",
       "<table border=\"1\" class=\"dataframe\">\n",
       "  <thead>\n",
       "    <tr style=\"text-align: right;\">\n",
       "      <th></th>\n",
       "      <th>Open</th>\n",
       "      <th>High</th>\n",
       "      <th>Low</th>\n",
       "      <th>Close</th>\n",
       "      <th>Adj Close</th>\n",
       "      <th>Volume</th>\n",
       "    </tr>\n",
       "    <tr>\n",
       "      <th>Date</th>\n",
       "      <th></th>\n",
       "      <th></th>\n",
       "      <th></th>\n",
       "      <th></th>\n",
       "      <th></th>\n",
       "      <th></th>\n",
       "    </tr>\n",
       "  </thead>\n",
       "  <tbody>\n",
       "    <tr>\n",
       "      <th>1999-11-18</th>\n",
       "      <td>32.546494</td>\n",
       "      <td>35.765381</td>\n",
       "      <td>28.612303</td>\n",
       "      <td>31.473534</td>\n",
       "      <td>27.068665</td>\n",
       "      <td>62546300</td>\n",
       "    </tr>\n",
       "    <tr>\n",
       "      <th>1999-11-19</th>\n",
       "      <td>30.713520</td>\n",
       "      <td>30.758226</td>\n",
       "      <td>28.478184</td>\n",
       "      <td>28.880543</td>\n",
       "      <td>24.838577</td>\n",
       "      <td>15234100</td>\n",
       "    </tr>\n",
       "    <tr>\n",
       "      <th>1999-11-22</th>\n",
       "      <td>29.551144</td>\n",
       "      <td>31.473534</td>\n",
       "      <td>28.657009</td>\n",
       "      <td>31.473534</td>\n",
       "      <td>27.068665</td>\n",
       "      <td>6577800</td>\n",
       "    </tr>\n",
       "    <tr>\n",
       "      <th>1999-11-23</th>\n",
       "      <td>30.400572</td>\n",
       "      <td>31.205294</td>\n",
       "      <td>28.612303</td>\n",
       "      <td>28.612303</td>\n",
       "      <td>24.607880</td>\n",
       "      <td>5975600</td>\n",
       "    </tr>\n",
       "    <tr>\n",
       "      <th>1999-11-24</th>\n",
       "      <td>28.701717</td>\n",
       "      <td>29.998211</td>\n",
       "      <td>28.612303</td>\n",
       "      <td>29.372318</td>\n",
       "      <td>25.261524</td>\n",
       "      <td>4843200</td>\n",
       "    </tr>\n",
       "  </tbody>\n",
       "</table>\n",
       "</div>"
      ],
      "text/plain": [
       "                 Open       High        Low      Close  Adj Close    Volume\n",
       "Date                                                                       \n",
       "1999-11-18  32.546494  35.765381  28.612303  31.473534  27.068665  62546300\n",
       "1999-11-19  30.713520  30.758226  28.478184  28.880543  24.838577  15234100\n",
       "1999-11-22  29.551144  31.473534  28.657009  31.473534  27.068665   6577800\n",
       "1999-11-23  30.400572  31.205294  28.612303  28.612303  24.607880   5975600\n",
       "1999-11-24  28.701717  29.998211  28.612303  29.372318  25.261524   4843200"
      ]
     },
     "execution_count": 75,
     "metadata": {},
     "output_type": "execute_result"
    }
   ],
   "source": [
    "df1 = pd.read_csv(\"/Users/nicolasdemuynck/Documents/Datasets/Stockpred/stocks/A.csv\" , index_col='Date')\n",
    "\n",
    "df1.head (5)"
   ]
  },
  {
   "cell_type": "code",
   "execution_count": 76,
   "metadata": {},
   "outputs": [
    {
     "data": {
      "text/html": [
       "<div>\n",
       "<style scoped>\n",
       "    .dataframe tbody tr th:only-of-type {\n",
       "        vertical-align: middle;\n",
       "    }\n",
       "\n",
       "    .dataframe tbody tr th {\n",
       "        vertical-align: top;\n",
       "    }\n",
       "\n",
       "    .dataframe thead th {\n",
       "        text-align: right;\n",
       "    }\n",
       "</style>\n",
       "<table border=\"1\" class=\"dataframe\">\n",
       "  <thead>\n",
       "    <tr style=\"text-align: right;\">\n",
       "      <th></th>\n",
       "      <th>Open</th>\n",
       "      <th>High</th>\n",
       "      <th>Low</th>\n",
       "      <th>Close</th>\n",
       "      <th>Adj Close</th>\n",
       "      <th>Volume</th>\n",
       "    </tr>\n",
       "    <tr>\n",
       "      <th>Date</th>\n",
       "      <th></th>\n",
       "      <th></th>\n",
       "      <th></th>\n",
       "      <th></th>\n",
       "      <th></th>\n",
       "      <th></th>\n",
       "    </tr>\n",
       "  </thead>\n",
       "  <tbody>\n",
       "    <tr>\n",
       "      <th>1962-01-02</th>\n",
       "      <td>6.532155</td>\n",
       "      <td>6.556185</td>\n",
       "      <td>6.532155</td>\n",
       "      <td>6.532155</td>\n",
       "      <td>1.536658</td>\n",
       "      <td>55900</td>\n",
       "    </tr>\n",
       "    <tr>\n",
       "      <th>1962-01-03</th>\n",
       "      <td>6.532155</td>\n",
       "      <td>6.632280</td>\n",
       "      <td>6.524145</td>\n",
       "      <td>6.632280</td>\n",
       "      <td>1.560212</td>\n",
       "      <td>74500</td>\n",
       "    </tr>\n",
       "    <tr>\n",
       "      <th>1962-01-04</th>\n",
       "      <td>6.632280</td>\n",
       "      <td>6.664320</td>\n",
       "      <td>6.632280</td>\n",
       "      <td>6.632280</td>\n",
       "      <td>1.560212</td>\n",
       "      <td>80500</td>\n",
       "    </tr>\n",
       "    <tr>\n",
       "      <th>1962-01-05</th>\n",
       "      <td>6.632280</td>\n",
       "      <td>6.656310</td>\n",
       "      <td>6.616260</td>\n",
       "      <td>6.624270</td>\n",
       "      <td>1.558326</td>\n",
       "      <td>70500</td>\n",
       "    </tr>\n",
       "    <tr>\n",
       "      <th>1962-01-08</th>\n",
       "      <td>6.608250</td>\n",
       "      <td>6.608250</td>\n",
       "      <td>6.339915</td>\n",
       "      <td>6.408000</td>\n",
       "      <td>1.507450</td>\n",
       "      <td>93800</td>\n",
       "    </tr>\n",
       "  </tbody>\n",
       "</table>\n",
       "</div>"
      ],
      "text/plain": [
       "                Open      High       Low     Close  Adj Close  Volume\n",
       "Date                                                                 \n",
       "1962-01-02  6.532155  6.556185  6.532155  6.532155   1.536658   55900\n",
       "1962-01-03  6.532155  6.632280  6.524145  6.632280   1.560212   74500\n",
       "1962-01-04  6.632280  6.664320  6.632280  6.632280   1.560212   80500\n",
       "1962-01-05  6.632280  6.656310  6.616260  6.624270   1.558326   70500\n",
       "1962-01-08  6.608250  6.608250  6.339915  6.408000   1.507450   93800"
      ]
     },
     "execution_count": 76,
     "metadata": {},
     "output_type": "execute_result"
    }
   ],
   "source": [
    "df2 = pd.read_csv(\"/Users/nicolasdemuynck/Documents/Datasets/Stockpred/stocks/AA.csv\" , index_col='Date')\n",
    "\n",
    "df2.head (5)"
   ]
  },
  {
   "cell_type": "code",
   "execution_count": 77,
   "metadata": {},
   "outputs": [
    {
     "name": "stdout",
     "output_type": "stream",
     "text": [
      "<class 'pandas.core.frame.DataFrame'>\n",
      "Index: 5124 entries, 1999-11-18 to 2020-04-01\n",
      "Data columns (total 6 columns):\n",
      " #   Column     Non-Null Count  Dtype  \n",
      "---  ------     --------------  -----  \n",
      " 0   Open       5124 non-null   float64\n",
      " 1   High       5124 non-null   float64\n",
      " 2   Low        5124 non-null   float64\n",
      " 3   Close      5124 non-null   float64\n",
      " 4   Adj Close  5124 non-null   float64\n",
      " 5   Volume     5124 non-null   int64  \n",
      "dtypes: float64(5), int64(1)\n",
      "memory usage: 280.2+ KB\n"
     ]
    }
   ],
   "source": [
    "df1.info ()"
   ]
  },
  {
   "cell_type": "code",
   "execution_count": 78,
   "metadata": {},
   "outputs": [
    {
     "name": "stdout",
     "output_type": "stream",
     "text": [
      "<class 'pandas.core.frame.DataFrame'>\n",
      "Index: 14663 entries, 1962-01-02 to 2020-04-01\n",
      "Data columns (total 6 columns):\n",
      " #   Column     Non-Null Count  Dtype  \n",
      "---  ------     --------------  -----  \n",
      " 0   Open       14663 non-null  float64\n",
      " 1   High       14663 non-null  float64\n",
      " 2   Low        14663 non-null  float64\n",
      " 3   Close      14663 non-null  float64\n",
      " 4   Adj Close  14663 non-null  float64\n",
      " 5   Volume     14663 non-null  int64  \n",
      "dtypes: float64(5), int64(1)\n",
      "memory usage: 801.9+ KB\n"
     ]
    }
   ],
   "source": [
    "df2.info ()"
   ]
  },
  {
   "cell_type": "code",
   "execution_count": 79,
   "metadata": {},
   "outputs": [
    {
     "data": {
      "text/html": [
       "<div>\n",
       "<style scoped>\n",
       "    .dataframe tbody tr th:only-of-type {\n",
       "        vertical-align: middle;\n",
       "    }\n",
       "\n",
       "    .dataframe tbody tr th {\n",
       "        vertical-align: top;\n",
       "    }\n",
       "\n",
       "    .dataframe thead th {\n",
       "        text-align: right;\n",
       "    }\n",
       "</style>\n",
       "<table border=\"1\" class=\"dataframe\">\n",
       "  <thead>\n",
       "    <tr style=\"text-align: right;\">\n",
       "      <th></th>\n",
       "      <th>Open</th>\n",
       "      <th>High</th>\n",
       "      <th>Low</th>\n",
       "      <th>Close</th>\n",
       "      <th>Adj Close</th>\n",
       "      <th>Volume</th>\n",
       "    </tr>\n",
       "  </thead>\n",
       "  <tbody>\n",
       "    <tr>\n",
       "      <th>count</th>\n",
       "      <td>5124.000000</td>\n",
       "      <td>5124.000000</td>\n",
       "      <td>5124.000000</td>\n",
       "      <td>5124.000000</td>\n",
       "      <td>5124.000000</td>\n",
       "      <td>5.124000e+03</td>\n",
       "    </tr>\n",
       "    <tr>\n",
       "      <th>mean</th>\n",
       "      <td>34.090255</td>\n",
       "      <td>34.560553</td>\n",
       "      <td>33.629467</td>\n",
       "      <td>34.106245</td>\n",
       "      <td>31.778674</td>\n",
       "      <td>3.693250e+06</td>\n",
       "    </tr>\n",
       "    <tr>\n",
       "      <th>std</th>\n",
       "      <td>18.608831</td>\n",
       "      <td>18.834528</td>\n",
       "      <td>18.381718</td>\n",
       "      <td>18.611595</td>\n",
       "      <td>18.730529</td>\n",
       "      <td>2.481855e+06</td>\n",
       "    </tr>\n",
       "    <tr>\n",
       "      <th>min</th>\n",
       "      <td>7.653791</td>\n",
       "      <td>7.961373</td>\n",
       "      <td>7.510730</td>\n",
       "      <td>7.761087</td>\n",
       "      <td>6.674886</td>\n",
       "      <td>2.719000e+05</td>\n",
       "    </tr>\n",
       "    <tr>\n",
       "      <th>25%</th>\n",
       "      <td>21.101574</td>\n",
       "      <td>21.452074</td>\n",
       "      <td>20.785050</td>\n",
       "      <td>21.130186</td>\n",
       "      <td>18.790381</td>\n",
       "      <td>2.206475e+06</td>\n",
       "    </tr>\n",
       "    <tr>\n",
       "      <th>50%</th>\n",
       "      <td>27.328326</td>\n",
       "      <td>27.703863</td>\n",
       "      <td>27.010015</td>\n",
       "      <td>27.396280</td>\n",
       "      <td>24.714866</td>\n",
       "      <td>3.174050e+06</td>\n",
       "    </tr>\n",
       "    <tr>\n",
       "      <th>75%</th>\n",
       "      <td>41.500000</td>\n",
       "      <td>41.860001</td>\n",
       "      <td>41.130001</td>\n",
       "      <td>41.525204</td>\n",
       "      <td>39.203083</td>\n",
       "      <td>4.508075e+06</td>\n",
       "    </tr>\n",
       "    <tr>\n",
       "      <th>max</th>\n",
       "      <td>111.587982</td>\n",
       "      <td>115.879829</td>\n",
       "      <td>103.719597</td>\n",
       "      <td>113.733902</td>\n",
       "      <td>97.816307</td>\n",
       "      <td>6.254630e+07</td>\n",
       "    </tr>\n",
       "  </tbody>\n",
       "</table>\n",
       "</div>"
      ],
      "text/plain": [
       "              Open         High          Low        Close    Adj Close  \\\n",
       "count  5124.000000  5124.000000  5124.000000  5124.000000  5124.000000   \n",
       "mean     34.090255    34.560553    33.629467    34.106245    31.778674   \n",
       "std      18.608831    18.834528    18.381718    18.611595    18.730529   \n",
       "min       7.653791     7.961373     7.510730     7.761087     6.674886   \n",
       "25%      21.101574    21.452074    20.785050    21.130186    18.790381   \n",
       "50%      27.328326    27.703863    27.010015    27.396280    24.714866   \n",
       "75%      41.500000    41.860001    41.130001    41.525204    39.203083   \n",
       "max     111.587982   115.879829   103.719597   113.733902    97.816307   \n",
       "\n",
       "             Volume  \n",
       "count  5.124000e+03  \n",
       "mean   3.693250e+06  \n",
       "std    2.481855e+06  \n",
       "min    2.719000e+05  \n",
       "25%    2.206475e+06  \n",
       "50%    3.174050e+06  \n",
       "75%    4.508075e+06  \n",
       "max    6.254630e+07  "
      ]
     },
     "execution_count": 79,
     "metadata": {},
     "output_type": "execute_result"
    }
   ],
   "source": [
    "df1.describe ()"
   ]
  },
  {
   "cell_type": "code",
   "execution_count": 80,
   "metadata": {},
   "outputs": [
    {
     "data": {
      "text/html": [
       "<div>\n",
       "<style scoped>\n",
       "    .dataframe tbody tr th:only-of-type {\n",
       "        vertical-align: middle;\n",
       "    }\n",
       "\n",
       "    .dataframe tbody tr th {\n",
       "        vertical-align: top;\n",
       "    }\n",
       "\n",
       "    .dataframe thead th {\n",
       "        text-align: right;\n",
       "    }\n",
       "</style>\n",
       "<table border=\"1\" class=\"dataframe\">\n",
       "  <thead>\n",
       "    <tr style=\"text-align: right;\">\n",
       "      <th></th>\n",
       "      <th>Open</th>\n",
       "      <th>High</th>\n",
       "      <th>Low</th>\n",
       "      <th>Close</th>\n",
       "      <th>Adj Close</th>\n",
       "      <th>Volume</th>\n",
       "    </tr>\n",
       "  </thead>\n",
       "  <tbody>\n",
       "    <tr>\n",
       "      <th>count</th>\n",
       "      <td>14663.000000</td>\n",
       "      <td>14663.000000</td>\n",
       "      <td>14663.000000</td>\n",
       "      <td>14663.000000</td>\n",
       "      <td>14663.000000</td>\n",
       "      <td>1.466300e+04</td>\n",
       "    </tr>\n",
       "    <tr>\n",
       "      <th>mean</th>\n",
       "      <td>26.982694</td>\n",
       "      <td>27.345153</td>\n",
       "      <td>26.593885</td>\n",
       "      <td>26.969156</td>\n",
       "      <td>20.456199</td>\n",
       "      <td>2.617908e+06</td>\n",
       "    </tr>\n",
       "    <tr>\n",
       "      <th>std</th>\n",
       "      <td>24.957071</td>\n",
       "      <td>25.328227</td>\n",
       "      <td>24.544335</td>\n",
       "      <td>24.938202</td>\n",
       "      <td>21.719005</td>\n",
       "      <td>4.333654e+06</td>\n",
       "    </tr>\n",
       "    <tr>\n",
       "      <th>min</th>\n",
       "      <td>3.652560</td>\n",
       "      <td>3.720645</td>\n",
       "      <td>3.604500</td>\n",
       "      <td>3.652560</td>\n",
       "      <td>1.082444</td>\n",
       "      <td>0.000000e+00</td>\n",
       "    </tr>\n",
       "    <tr>\n",
       "      <th>25%</th>\n",
       "      <td>7.680589</td>\n",
       "      <td>7.741665</td>\n",
       "      <td>7.621515</td>\n",
       "      <td>7.677585</td>\n",
       "      <td>2.413979</td>\n",
       "      <td>2.426000e+05</td>\n",
       "    </tr>\n",
       "    <tr>\n",
       "      <th>50%</th>\n",
       "      <td>19.272060</td>\n",
       "      <td>19.488331</td>\n",
       "      <td>19.019745</td>\n",
       "      <td>19.272060</td>\n",
       "      <td>12.387181</td>\n",
       "      <td>1.027300e+06</td>\n",
       "    </tr>\n",
       "    <tr>\n",
       "      <th>75%</th>\n",
       "      <td>36.934109</td>\n",
       "      <td>37.486801</td>\n",
       "      <td>36.554815</td>\n",
       "      <td>36.932055</td>\n",
       "      <td>31.146004</td>\n",
       "      <td>2.628850e+06</td>\n",
       "    </tr>\n",
       "    <tr>\n",
       "      <th>max</th>\n",
       "      <td>115.007584</td>\n",
       "      <td>117.194313</td>\n",
       "      <td>111.883682</td>\n",
       "      <td>113.782051</td>\n",
       "      <td>98.448433</td>\n",
       "      <td>1.007516e+08</td>\n",
       "    </tr>\n",
       "  </tbody>\n",
       "</table>\n",
       "</div>"
      ],
      "text/plain": [
       "               Open          High           Low         Close     Adj Close  \\\n",
       "count  14663.000000  14663.000000  14663.000000  14663.000000  14663.000000   \n",
       "mean      26.982694     27.345153     26.593885     26.969156     20.456199   \n",
       "std       24.957071     25.328227     24.544335     24.938202     21.719005   \n",
       "min        3.652560      3.720645      3.604500      3.652560      1.082444   \n",
       "25%        7.680589      7.741665      7.621515      7.677585      2.413979   \n",
       "50%       19.272060     19.488331     19.019745     19.272060     12.387181   \n",
       "75%       36.934109     37.486801     36.554815     36.932055     31.146004   \n",
       "max      115.007584    117.194313    111.883682    113.782051     98.448433   \n",
       "\n",
       "             Volume  \n",
       "count  1.466300e+04  \n",
       "mean   2.617908e+06  \n",
       "std    4.333654e+06  \n",
       "min    0.000000e+00  \n",
       "25%    2.426000e+05  \n",
       "50%    1.027300e+06  \n",
       "75%    2.628850e+06  \n",
       "max    1.007516e+08  "
      ]
     },
     "execution_count": 80,
     "metadata": {},
     "output_type": "execute_result"
    }
   ],
   "source": [
    "df2.describe ()"
   ]
  },
  {
   "cell_type": "code",
   "execution_count": 44,
   "metadata": {},
   "outputs": [
    {
     "data": {
      "text/plain": [
       "[<matplotlib.lines.Line2D at 0x1355362e0>]"
      ]
     },
     "execution_count": 44,
     "metadata": {},
     "output_type": "execute_result"
    },
    {
     "data": {
      "image/png": "[encoded data removed]",
      "text/plain": [
       "<Figure size 432x288 with 1 Axes>"
      ]
     },
     "metadata": {
      "needs_background": "light"
     },
     "output_type": "display_data"
    }
   ],
   "source": [
    "plt.plot(df1.Close)"
   ]
  },
  {
   "cell_type": "code",
   "execution_count": 45,
   "metadata": {},
   "outputs": [
    {
     "data": {
      "text/plain": [
       "[<matplotlib.lines.Line2D at 0x13635a370>]"
      ]
     },
     "execution_count": 45,
     "metadata": {},
     "output_type": "execute_result"
    },
    {
     "data": {
      "image/png": "[encoded data removed]",
      "text/plain": [
       "<Figure size 432x288 with 1 Axes>"
      ]
     },
     "metadata": {
      "needs_background": "light"
     },
     "output_type": "display_data"
    }
   ],
   "source": [
    "plt.plot(df2.Close)"
   ]
  },
  {
   "cell_type": "code",
   "execution_count": 81,
   "metadata": {},
   "outputs": [
    {
     "data": {
      "text/plain": [
       "Date\n",
       "1999-11-18         NaN\n",
       "1999-11-19   -0.085979\n",
       "1999-11-22    0.085979\n",
       "1999-11-23   -0.095310\n",
       "1999-11-24    0.026216\n",
       "Name: Close, dtype: float64"
      ]
     },
     "execution_count": 81,
     "metadata": {},
     "output_type": "execute_result"
    }
   ],
   "source": [
    "pct_change1 = np.log(df1.Close).diff ()\n",
    "pct_change1.head ()"
   ]
  },
  {
   "cell_type": "code",
   "execution_count": 82,
   "metadata": {},
   "outputs": [
    {
     "data": {
      "text/plain": [
       "Date\n",
       "1962-01-02         NaN\n",
       "1962-01-03    0.015212\n",
       "1962-01-04    0.000000\n",
       "1962-01-05   -0.001208\n",
       "1962-01-08   -0.033193\n",
       "Name: Close, dtype: float64"
      ]
     },
     "execution_count": 82,
     "metadata": {},
     "output_type": "execute_result"
    }
   ],
   "source": [
    "pct_change2 = np.log(df2.Close).diff ()\n",
    "pct_change2.head ()"
   ]
  },
  {
   "cell_type": "code",
   "execution_count": 83,
   "metadata": {},
   "outputs": [],
   "source": [
    "pct_change1.dropna (inplace=True)"
   ]
  },
  {
   "cell_type": "code",
   "execution_count": 84,
   "metadata": {},
   "outputs": [],
   "source": [
    "pct_change2.dropna (inplace=True)"
   ]
  },
  {
   "cell_type": "code",
   "execution_count": 87,
   "metadata": {},
   "outputs": [
    {
     "data": {
      "text/plain": [
       "count    5123.000000\n",
       "mean        0.000153\n",
       "std         0.027391\n",
       "min        -0.315925\n",
       "25%        -0.010500\n",
       "50%         0.000565\n",
       "75%         0.011306\n",
       "max         0.386773\n",
       "Name: Close, dtype: float64"
      ]
     },
     "execution_count": 87,
     "metadata": {},
     "output_type": "execute_result"
    }
   ],
   "source": [
    "pct_change1.describe ()"
   ]
  },
  {
   "cell_type": "code",
   "execution_count": 88,
   "metadata": {},
   "outputs": [
    {
     "data": {
      "text/plain": [
       "count    14662.000000\n",
       "mean        -0.000003\n",
       "std          0.021957\n",
       "min         -0.280092\n",
       "25%         -0.011480\n",
       "50%          0.000000\n",
       "75%          0.011352\n",
       "max          0.248567\n",
       "Name: Close, dtype: float64"
      ]
     },
     "execution_count": 88,
     "metadata": {},
     "output_type": "execute_result"
    }
   ],
   "source": [
    "pct_change2.describe ()"
   ]
  },
  {
   "cell_type": "code",
   "execution_count": 89,
   "metadata": {},
   "outputs": [
    {
     "data": {
      "text/plain": [
       "(array([1.000e+00, 1.000e+00, 0.000e+00, 0.000e+00, 0.000e+00, 0.000e+00,\n",
       "        0.000e+00, 1.000e+00, 0.000e+00, 1.000e+01, 1.500e+01, 3.300e+01,\n",
       "        8.100e+01, 2.010e+02, 6.420e+02, 2.204e+03, 1.440e+03, 3.080e+02,\n",
       "        9.400e+01, 4.900e+01, 2.300e+01, 5.000e+00, 5.000e+00, 5.000e+00,\n",
       "        2.000e+00, 2.000e+00, 0.000e+00, 0.000e+00, 0.000e+00, 0.000e+00,\n",
       "        0.000e+00, 0.000e+00, 0.000e+00, 0.000e+00, 1.000e+00]),\n",
       " array([-0.31592525, -0.29584816, -0.27577107, -0.25569398, -0.23561689,\n",
       "        -0.2155398 , -0.19546271, -0.17538561, -0.15530852, -0.13523143,\n",
       "        -0.11515434, -0.09507725, -0.07500016, -0.05492307, -0.03484598,\n",
       "        -0.01476889,  0.0053082 ,  0.0253853 ,  0.04546239,  0.06553948,\n",
       "         0.08561657,  0.10569366,  0.12577075,  0.14584784,  0.16592493,\n",
       "         0.18600202,  0.20607911,  0.22615621,  0.2462333 ,  0.26631039,\n",
       "         0.28638748,  0.30646457,  0.32654166,  0.34661875,  0.36669584,\n",
       "         0.38677293]),\n",
       " <a list of 35 Patch objects>)"
      ]
     },
     "execution_count": 89,
     "metadata": {},
     "output_type": "execute_result"
    },
    {
     "data": {
      "image/png": "[encoded data removed]",
      "text/plain": [
       "<Figure size 432x288 with 1 Axes>"
      ]
     },
     "metadata": {
      "needs_background": "light"
     },
     "output_type": "display_data"
    }
   ],
   "source": [
    "plt.hist(pct_change1, bins=35, color = 'g', edgecolor='w')"
   ]
  },
  {
   "cell_type": "code",
   "execution_count": 90,
   "metadata": {},
   "outputs": [
    {
     "data": {
      "text/plain": [
       "(array([1.000e+00, 0.000e+00, 1.000e+00, 0.000e+00, 0.000e+00, 2.000e+00,\n",
       "        1.000e+00, 3.000e+00, 4.000e+00, 6.000e+00, 1.200e+01, 8.000e+00,\n",
       "        1.500e+01, 3.500e+01, 9.900e+01, 2.870e+02, 9.630e+02, 3.031e+03,\n",
       "        5.489e+03, 3.003e+03, 1.136e+03, 3.590e+02, 1.230e+02, 4.900e+01,\n",
       "        2.100e+01, 1.000e+00, 6.000e+00, 1.000e+00, 1.000e+00, 1.000e+00,\n",
       "        1.000e+00, 0.000e+00, 2.000e+00, 0.000e+00, 1.000e+00]),\n",
       " array([-0.28009184, -0.26498729, -0.24988275, -0.23477821, -0.21967367,\n",
       "        -0.20456912, -0.18946458, -0.17436004, -0.1592555 , -0.14415095,\n",
       "        -0.12904641, -0.11394187, -0.09883732, -0.08373278, -0.06862824,\n",
       "        -0.0535237 , -0.03841915, -0.02331461, -0.00821007,  0.00689447,\n",
       "         0.02199902,  0.03710356,  0.0522081 ,  0.06731265,  0.08241719,\n",
       "         0.09752173,  0.11262627,  0.12773082,  0.14283536,  0.1579399 ,\n",
       "         0.17304444,  0.18814899,  0.20325353,  0.21835807,  0.23346262,\n",
       "         0.24856716]),\n",
       " <a list of 35 Patch objects>)"
      ]
     },
     "execution_count": 90,
     "metadata": {},
     "output_type": "execute_result"
    },
    {
     "data": {
      "image/png": "[encoded data removed]",
      "text/plain": [
       "<Figure size 432x288 with 1 Axes>"
      ]
     },
     "metadata": {
      "needs_background": "light"
     },
     "output_type": "display_data"
    }
   ],
   "source": [
    "plt.hist(pct_change2, bins=35, color = 'g', edgecolor='w')"
   ]
  },
  {
   "cell_type": "code",
   "execution_count": 91,
   "metadata": {},
   "outputs": [
    {
     "data": {
      "image/png": "[encoded data removed]",
      "text/plain": [
       "<Figure size 432x288 with 1 Axes>"
      ]
     },
     "metadata": {
      "needs_background": "light"
     },
     "output_type": "display_data"
    }
   ],
   "source": [
    "sns.distplot(pct_change1, kde_kws={'label': 'A'})\n",
    "sns.distplot(pct_change2, kde_kws={'label': 'AA'});"
   ]
  },
  {
   "cell_type": "code",
   "execution_count": 92,
   "metadata": {},
   "outputs": [
    {
     "data": {
      "text/plain": [
       "<matplotlib.axes._subplots.AxesSubplot at 0x13c2fc2b0>"
      ]
     },
     "execution_count": 92,
     "metadata": {},
     "output_type": "execute_result"
    },
    {
     "data": {
      "image/png": "[encoded data removed]",
      "text/plain": [
       "<Figure size 432x288 with 1 Axes>"
      ]
     },
     "metadata": {
      "needs_background": "light"
     },
     "output_type": "display_data"
    }
   ],
   "source": [
    "sns.scatterplot(pct_change1, pct_change2)"
   ]
  },
  {
   "cell_type": "code",
   "execution_count": 100,
   "metadata": {},
   "outputs": [
    {
     "data": {
      "text/html": [
       "<div>\n",
       "<style scoped>\n",
       "    .dataframe tbody tr th:only-of-type {\n",
       "        vertical-align: middle;\n",
       "    }\n",
       "\n",
       "    .dataframe tbody tr th {\n",
       "        vertical-align: top;\n",
       "    }\n",
       "\n",
       "    .dataframe thead th {\n",
       "        text-align: right;\n",
       "    }\n",
       "</style>\n",
       "<table border=\"1\" class=\"dataframe\">\n",
       "  <thead>\n",
       "    <tr style=\"text-align: right;\">\n",
       "      <th></th>\n",
       "      <th>Close_x</th>\n",
       "      <th>Close_y</th>\n",
       "    </tr>\n",
       "    <tr>\n",
       "      <th>Date</th>\n",
       "      <th></th>\n",
       "      <th></th>\n",
       "    </tr>\n",
       "  </thead>\n",
       "  <tbody>\n",
       "    <tr>\n",
       "      <th>1999-11-19</th>\n",
       "      <td>-0.085979</td>\n",
       "      <td>0.017790</td>\n",
       "    </tr>\n",
       "    <tr>\n",
       "      <th>1999-11-22</th>\n",
       "      <td>0.085979</td>\n",
       "      <td>0.013759</td>\n",
       "    </tr>\n",
       "    <tr>\n",
       "      <th>1999-11-23</th>\n",
       "      <td>-0.095310</td>\n",
       "      <td>0.010504</td>\n",
       "    </tr>\n",
       "    <tr>\n",
       "      <th>1999-11-24</th>\n",
       "      <td>0.026216</td>\n",
       "      <td>-0.014081</td>\n",
       "    </tr>\n",
       "    <tr>\n",
       "      <th>1999-11-26</th>\n",
       "      <td>0.003039</td>\n",
       "      <td>0.015310</td>\n",
       "    </tr>\n",
       "  </tbody>\n",
       "</table>\n",
       "</div>"
      ],
      "text/plain": [
       "             Close_x   Close_y\n",
       "Date                          \n",
       "1999-11-19 -0.085979  0.017790\n",
       "1999-11-22  0.085979  0.013759\n",
       "1999-11-23 -0.095310  0.010504\n",
       "1999-11-24  0.026216 -0.014081\n",
       "1999-11-26  0.003039  0.015310"
      ]
     },
     "execution_count": 100,
     "metadata": {},
     "output_type": "execute_result"
    }
   ],
   "source": [
    "pct_change=pd.merge(pct_change1, pct_change2, on='Date', how='left')\n",
    "pct_change.head (5)"
   ]
  },
  {
   "cell_type": "code",
   "execution_count": 101,
   "metadata": {},
   "outputs": [
    {
     "data": {
      "text/html": [
       "<div>\n",
       "<style scoped>\n",
       "    .dataframe tbody tr th:only-of-type {\n",
       "        vertical-align: middle;\n",
       "    }\n",
       "\n",
       "    .dataframe tbody tr th {\n",
       "        vertical-align: top;\n",
       "    }\n",
       "\n",
       "    .dataframe thead th {\n",
       "        text-align: right;\n",
       "    }\n",
       "</style>\n",
       "<table border=\"1\" class=\"dataframe\">\n",
       "  <thead>\n",
       "    <tr style=\"text-align: right;\">\n",
       "      <th></th>\n",
       "      <th>Close_x</th>\n",
       "      <th>Close_y</th>\n",
       "    </tr>\n",
       "  </thead>\n",
       "  <tbody>\n",
       "    <tr>\n",
       "      <th>Close_x</th>\n",
       "      <td>1.000000</td>\n",
       "      <td>0.385643</td>\n",
       "    </tr>\n",
       "    <tr>\n",
       "      <th>Close_y</th>\n",
       "      <td>0.385643</td>\n",
       "      <td>1.000000</td>\n",
       "    </tr>\n",
       "  </tbody>\n",
       "</table>\n",
       "</div>"
      ],
      "text/plain": [
       "          Close_x   Close_y\n",
       "Close_x  1.000000  0.385643\n",
       "Close_y  0.385643  1.000000"
      ]
     },
     "execution_count": 101,
     "metadata": {},
     "output_type": "execute_result"
    }
   ],
   "source": [
    "pct_change.corr ()"
   ]
  },
  {
   "cell_type": "code",
   "execution_count": 102,
   "metadata": {},
   "outputs": [
    {
     "data": {
      "text/plain": [
       "<seaborn.axisgrid.PairGrid at 0x13c351370>"
      ]
     },
     "execution_count": 102,
     "metadata": {},
     "output_type": "execute_result"
    },
    {
     "data": {
      "image/png": "[encoded data removed]",
      "text/plain": [
       "<Figure size 360x360 with 6 Axes>"
      ]
     },
     "metadata": {
      "needs_background": "light"
     },
     "output_type": "display_data"
    }
   ],
   "source": [
    "sns.pairplot(pct_change)"
   ]
  },
  {
   "cell_type": "code",
   "execution_count": null,
   "metadata": {},
   "outputs": [],
   "source": []
  }
 ],
 "metadata": {
  "kernelspec": {
   "display_name": "Python 3",
   "language": "python",
   "name": "python3"
  },
  "language_info": {
   "codemirror_mode": {
    "name": "ipython",
    "version": 3
   },
   "file_extension": ".py",
   "mimetype": "text/x-python",
   "name": "python",
   "nbconvert_exporter": "python",
   "pygments_lexer": "ipython3",
   "version": "3.8.3"
  }
 },
 "nbformat": 4,
 "nbformat_minor": 4
}
