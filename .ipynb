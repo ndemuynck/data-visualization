{
 "cells": [
  {
   "cell_type": "code",
   "execution_count": 10,
   "metadata": {},
   "outputs": [],
   "source": [
    "import numpy as np\n",
    "import pandas as pd\n",
    "import pandas_datareader as pdr\n",
    "from pandas.plotting import register_matplotlib_converters\n",
    "import matplotlib.pyplot as plt\n",
    "import seaborn as sns\n",
    "register_matplotlib_converters ()"
   ]
  },
  {
   "cell_type": "code",
   "execution_count": 86,
   "metadata": {},
   "outputs": [
    {
     "data": {
      "text/html": [
       "<div>\n",
       "<style scoped>\n",
       "    .dataframe tbody tr th:only-of-type {\n",
       "        vertical-align: middle;\n",
       "    }\n",
       "\n",
       "    .dataframe tbody tr th {\n",
       "        vertical-align: top;\n",
       "    }\n",
       "\n",
       "    .dataframe thead th {\n",
       "        text-align: right;\n",
       "    }\n",
       "</style>\n",
       "<table border=\"1\" class=\"dataframe\">\n",
       "  <thead>\n",
       "    <tr style=\"text-align: right;\">\n",
       "      <th></th>\n",
       "      <th>Open</th>\n",
       "      <th>High</th>\n",
       "      <th>Low</th>\n",
       "      <th>Close</th>\n",
       "      <th>Adj Close</th>\n",
       "      <th>Volume</th>\n",
       "    </tr>\n",
       "    <tr>\n",
       "      <th>Date</th>\n",
       "      <th></th>\n",
       "      <th></th>\n",
       "      <th></th>\n",
       "      <th></th>\n",
       "      <th></th>\n",
       "      <th></th>\n",
       "    </tr>\n",
       "  </thead>\n",
       "  <tbody>\n",
       "    <tr>\n",
       "      <th>1999-11-18</th>\n",
       "      <td>32.546494</td>\n",
       "      <td>35.765381</td>\n",
       "      <td>28.612303</td>\n",
       "      <td>31.473534</td>\n",
       "      <td>27.068665</td>\n",
       "      <td>62546300</td>\n",
       "    </tr>\n",
       "    <tr>\n",
       "      <th>1999-11-19</th>\n",
       "      <td>30.713520</td>\n",
       "      <td>30.758226</td>\n",
       "      <td>28.478184</td>\n",
       "      <td>28.880543</td>\n",
       "      <td>24.838577</td>\n",
       "      <td>15234100</td>\n",
       "    </tr>\n",
       "    <tr>\n",
       "      <th>1999-11-22</th>\n",
       "      <td>29.551144</td>\n",
       "      <td>31.473534</td>\n",
       "      <td>28.657009</td>\n",
       "      <td>31.473534</td>\n",
       "      <td>27.068665</td>\n",
       "      <td>6577800</td>\n",
       "    </tr>\n",
       "    <tr>\n",
       "      <th>1999-11-23</th>\n",
       "      <td>30.400572</td>\n",
       "      <td>31.205294</td>\n",
       "      <td>28.612303</td>\n",
       "      <td>28.612303</td>\n",
       "      <td>24.607880</td>\n",
       "      <td>5975600</td>\n",
       "    </tr>\n",
       "    <tr>\n",
       "      <th>1999-11-24</th>\n",
       "      <td>28.701717</td>\n",
       "      <td>29.998211</td>\n",
       "      <td>28.612303</td>\n",
       "      <td>29.372318</td>\n",
       "      <td>25.261524</td>\n",
       "      <td>4843200</td>\n",
       "    </tr>\n",
       "  </tbody>\n",
       "</table>\n",
       "</div>"
      ],
      "text/plain": [
       "                 Open       High        Low      Close  Adj Close    Volume\n",
       "Date                                                                       \n",
       "1999-11-18  32.546494  35.765381  28.612303  31.473534  27.068665  62546300\n",
       "1999-11-19  30.713520  30.758226  28.478184  28.880543  24.838577  15234100\n",
       "1999-11-22  29.551144  31.473534  28.657009  31.473534  27.068665   6577800\n",
       "1999-11-23  30.400572  31.205294  28.612303  28.612303  24.607880   5975600\n",
       "1999-11-24  28.701717  29.998211  28.612303  29.372318  25.261524   4843200"
      ]
     },
     "execution_count": 86,
     "metadata": {},
     "output_type": "execute_result"
    }
   ],
   "source": [
    "dfA = pd.read_csv(\"/Users/nicolasdemuynck/Documents/Datasets/Stockpred/stocks/A.csv\" , index_col='Date')\n",
    "\n",
    "dfA.head (5)"
   ]
  },
  {
   "cell_type": "code",
   "execution_count": 87,
   "metadata": {},
   "outputs": [
    {
     "data": {
      "text/html": [
       "<div>\n",
       "<style scoped>\n",
       "    .dataframe tbody tr th:only-of-type {\n",
       "        vertical-align: middle;\n",
       "    }\n",
       "\n",
       "    .dataframe tbody tr th {\n",
       "        vertical-align: top;\n",
       "    }\n",
       "\n",
       "    .dataframe thead th {\n",
       "        text-align: right;\n",
       "    }\n",
       "</style>\n",
       "<table border=\"1\" class=\"dataframe\">\n",
       "  <thead>\n",
       "    <tr style=\"text-align: right;\">\n",
       "      <th></th>\n",
       "      <th>Open</th>\n",
       "      <th>High</th>\n",
       "      <th>Low</th>\n",
       "      <th>Close</th>\n",
       "      <th>Adj Close</th>\n",
       "      <th>Volume</th>\n",
       "    </tr>\n",
       "    <tr>\n",
       "      <th>Date</th>\n",
       "      <th></th>\n",
       "      <th></th>\n",
       "      <th></th>\n",
       "      <th></th>\n",
       "      <th></th>\n",
       "      <th></th>\n",
       "    </tr>\n",
       "  </thead>\n",
       "  <tbody>\n",
       "    <tr>\n",
       "      <th>1962-01-02</th>\n",
       "      <td>6.532155</td>\n",
       "      <td>6.556185</td>\n",
       "      <td>6.532155</td>\n",
       "      <td>6.532155</td>\n",
       "      <td>1.536658</td>\n",
       "      <td>55900</td>\n",
       "    </tr>\n",
       "    <tr>\n",
       "      <th>1962-01-03</th>\n",
       "      <td>6.532155</td>\n",
       "      <td>6.632280</td>\n",
       "      <td>6.524145</td>\n",
       "      <td>6.632280</td>\n",
       "      <td>1.560212</td>\n",
       "      <td>74500</td>\n",
       "    </tr>\n",
       "    <tr>\n",
       "      <th>1962-01-04</th>\n",
       "      <td>6.632280</td>\n",
       "      <td>6.664320</td>\n",
       "      <td>6.632280</td>\n",
       "      <td>6.632280</td>\n",
       "      <td>1.560212</td>\n",
       "      <td>80500</td>\n",
       "    </tr>\n",
       "    <tr>\n",
       "      <th>1962-01-05</th>\n",
       "      <td>6.632280</td>\n",
       "      <td>6.656310</td>\n",
       "      <td>6.616260</td>\n",
       "      <td>6.624270</td>\n",
       "      <td>1.558326</td>\n",
       "      <td>70500</td>\n",
       "    </tr>\n",
       "    <tr>\n",
       "      <th>1962-01-08</th>\n",
       "      <td>6.608250</td>\n",
       "      <td>6.608250</td>\n",
       "      <td>6.339915</td>\n",
       "      <td>6.408000</td>\n",
       "      <td>1.507450</td>\n",
       "      <td>93800</td>\n",
       "    </tr>\n",
       "  </tbody>\n",
       "</table>\n",
       "</div>"
      ],
      "text/plain": [
       "                Open      High       Low     Close  Adj Close  Volume\n",
       "Date                                                                 \n",
       "1962-01-02  6.532155  6.556185  6.532155  6.532155   1.536658   55900\n",
       "1962-01-03  6.532155  6.632280  6.524145  6.632280   1.560212   74500\n",
       "1962-01-04  6.632280  6.664320  6.632280  6.632280   1.560212   80500\n",
       "1962-01-05  6.632280  6.656310  6.616260  6.624270   1.558326   70500\n",
       "1962-01-08  6.608250  6.608250  6.339915  6.408000   1.507450   93800"
      ]
     },
     "execution_count": 87,
     "metadata": {},
     "output_type": "execute_result"
    }
   ],
   "source": [
    "dfAA = pd.read_csv(\"/Users/nicolasdemuynck/Documents/Datasets/Stockpred/stocks/AA.csv\" , index_col='Date')\n",
    "\n",
    "dfAA.head (5)"
   ]
  },
  {
   "cell_type": "code",
   "execution_count": 88,
   "metadata": {},
   "outputs": [
    {
     "name": "stdout",
     "output_type": "stream",
     "text": [
      "<class 'pandas.core.frame.DataFrame'>\n",
      "Index: 5124 entries, 1999-11-18 to 2020-04-01\n",
      "Data columns (total 6 columns):\n",
      " #   Column     Non-Null Count  Dtype  \n",
      "---  ------     --------------  -----  \n",
      " 0   Open       5124 non-null   float64\n",
      " 1   High       5124 non-null   float64\n",
      " 2   Low        5124 non-null   float64\n",
      " 3   Close      5124 non-null   float64\n",
      " 4   Adj Close  5124 non-null   float64\n",
      " 5   Volume     5124 non-null   int64  \n",
      "dtypes: float64(5), int64(1)\n",
      "memory usage: 280.2+ KB\n"
     ]
    }
   ],
   "source": [
    "dfA.info ()"
   ]
  },
  {
   "cell_type": "code",
   "execution_count": 89,
   "metadata": {
    "jupyter": {
     "source_hidden": true
    }
   },
   "outputs": [
    {
     "name": "stdout",
     "output_type": "stream",
     "text": [
      "<class 'pandas.core.frame.DataFrame'>\n",
      "Index: 14663 entries, 1962-01-02 to 2020-04-01\n",
      "Data columns (total 6 columns):\n",
      " #   Column     Non-Null Count  Dtype  \n",
      "---  ------     --------------  -----  \n",
      " 0   Open       14663 non-null  float64\n",
      " 1   High       14663 non-null  float64\n",
      " 2   Low        14663 non-null  float64\n",
      " 3   Close      14663 non-null  float64\n",
      " 4   Adj Close  14663 non-null  float64\n",
      " 5   Volume     14663 non-null  int64  \n",
      "dtypes: float64(5), int64(1)\n",
      "memory usage: 801.9+ KB\n"
     ]
    }
   ],
   "source": [
    "dfAA.info ()"
   ]
  },
  {
   "cell_type": "code",
   "execution_count": 135,
   "metadata": {},
   "outputs": [
    {
     "data": {
      "text/plain": [
       "Date\n",
       "2020-01-02    85.949997\n",
       "2020-01-03    84.570000\n",
       "2020-01-06    84.820000\n",
       "2020-01-07    85.080002\n",
       "2020-01-08    85.919998\n",
       "                ...    \n",
       "2020-03-26    73.720001\n",
       "2020-03-27    70.910004\n",
       "2020-03-30    72.669998\n",
       "2020-03-31    71.620003\n",
       "2020-04-01    68.919998\n",
       "Name: Close, Length: 63, dtype: float64"
      ]
     },
     "execution_count": 135,
     "metadata": {},
     "output_type": "execute_result"
    }
   ],
   "source": [
    "dfA_close2020 = dfA.Close[-63:]\n",
    "dfA_close2020"
   ]
  },
  {
   "cell_type": "code",
   "execution_count": 136,
   "metadata": {},
   "outputs": [
    {
     "data": {
      "text/plain": [
       "Date\n",
       "2020-01-02    21.420000\n",
       "2020-01-03    21.500000\n",
       "2020-01-06    21.000000\n",
       "2020-01-07    21.320000\n",
       "2020-01-08    20.459999\n",
       "                ...    \n",
       "2020-03-26     6.840000\n",
       "2020-03-27     6.550000\n",
       "2020-03-30     6.070000\n",
       "2020-03-31     6.160000\n",
       "2020-04-01     6.250000\n",
       "Name: Close, Length: 63, dtype: float64"
      ]
     },
     "execution_count": 136,
     "metadata": {},
     "output_type": "execute_result"
    }
   ],
   "source": [
    "dfAA_close2020 = dfAA.Close[-63:]\n",
    "dfAA_close2020"
   ]
  },
  {
   "cell_type": "code",
   "execution_count": 137,
   "metadata": {},
   "outputs": [
    {
     "data": {
      "text/plain": [
       "count    63.000000\n",
       "mean     80.141745\n",
       "std       7.983741\n",
       "min      63.369999\n",
       "25%      72.790001\n",
       "50%      84.339996\n",
       "75%      85.869999\n",
       "max      90.129997\n",
       "Name: Close, dtype: float64"
      ]
     },
     "execution_count": 137,
     "metadata": {},
     "output_type": "execute_result"
    }
   ],
   "source": [
    "dfA_close2020.describe ()"
   ]
  },
  {
   "cell_type": "code",
   "execution_count": 138,
   "metadata": {},
   "outputs": [
    {
     "data": {
      "text/plain": [
       "count    63.000000\n",
       "mean     13.604127\n",
       "std       4.833530\n",
       "min       5.480000\n",
       "25%       8.945000\n",
       "50%      14.700000\n",
       "75%      16.195001\n",
       "max      21.500000\n",
       "Name: Close, dtype: float64"
      ]
     },
     "execution_count": 138,
     "metadata": {},
     "output_type": "execute_result"
    }
   ],
   "source": [
    "dfAA_close2020.describe ()"
   ]
  },
  {
   "cell_type": "code",
   "execution_count": 213,
   "metadata": {},
   "outputs": [
    {
     "data": {
      "text/plain": [
       "[]"
      ]
     },
     "execution_count": 213,
     "metadata": {},
     "output_type": "execute_result"
    },
    {
     "data": {
      "image/png": "[encoded data removed]",
      "text/plain": [
       "<Figure size 432x288 with 1 Axes>"
      ]
     },
     "metadata": {
      "needs_background": "light"
     },
     "output_type": "display_data"
    }
   ],
   "source": [
    "ax1 = dfA_close2020.plot(color = 'blue', fontsize = 10)\n",
    "ax1.set_xlabel ('Date')\n",
    "ax1.set_ylabel ('Closing Price in $')\n",
    "plt.xticks(rotation=70)\n",
    "plt.plot ()"
   ]
  },
  {
   "cell_type": "code",
   "execution_count": 214,
   "metadata": {},
   "outputs": [
    {
     "data": {
      "text/plain": [
       "[]"
      ]
     },
     "execution_count": 214,
     "metadata": {},
     "output_type": "execute_result"
    },
    {
     "data": {
      "image/png": "[encoded data removed]",
      "text/plain": [
       "<Figure size 432x288 with 1 Axes>"
      ]
     },
     "metadata": {
      "needs_background": "light"
     },
     "output_type": "display_data"
    }
   ],
   "source": [
    "ax2 = dfAA_close2020.plot(color = 'green', fontsize = 10)\n",
    "ax2.set_xlabel ('Date')\n",
    "ax2.set_ylabel ('Closing Price in $')\n",
    "plt.xticks(rotation=70)\n",
    "plt.plot ()"
   ]
  },
  {
   "cell_type": "code",
   "execution_count": 141,
   "metadata": {},
   "outputs": [
    {
     "data": {
      "text/plain": [
       "Date\n",
       "2020-01-02         NaN\n",
       "2020-01-03   -0.016186\n",
       "2020-01-06    0.002952\n",
       "2020-01-07    0.003061\n",
       "2020-01-08    0.009825\n",
       "                ...   \n",
       "2020-03-26    0.066168\n",
       "2020-03-27   -0.038863\n",
       "2020-03-30    0.024517\n",
       "2020-03-31   -0.014554\n",
       "2020-04-01   -0.038428\n",
       "Name: Close, Length: 63, dtype: float64"
      ]
     },
     "execution_count": 141,
     "metadata": {},
     "output_type": "execute_result"
    }
   ],
   "source": [
    "pct_change1 = np.log(df1_copy).diff ()\n",
    "pct_change1"
   ]
  },
  {
   "cell_type": "code",
   "execution_count": 142,
   "metadata": {},
   "outputs": [
    {
     "data": {
      "text/plain": [
       "Date\n",
       "2020-01-02         NaN\n",
       "2020-01-03    0.003728\n",
       "2020-01-06   -0.023530\n",
       "2020-01-07    0.015123\n",
       "2020-01-08   -0.041174\n",
       "                ...   \n",
       "2020-03-26   -0.035898\n",
       "2020-03-27   -0.043323\n",
       "2020-03-30   -0.076106\n",
       "2020-03-31    0.014718\n",
       "2020-04-01    0.014505\n",
       "Name: Close, Length: 63, dtype: float64"
      ]
     },
     "execution_count": 142,
     "metadata": {},
     "output_type": "execute_result"
    }
   ],
   "source": [
    "pct_change2 = np.log(df2_copy).diff ()\n",
    "pct_change2"
   ]
  },
  {
   "cell_type": "code",
   "execution_count": 143,
   "metadata": {},
   "outputs": [],
   "source": [
    "pct_change1.dropna (inplace=True)\n",
    "pct_change2.dropna (inplace=True)"
   ]
  },
  {
   "cell_type": "code",
   "execution_count": 144,
   "metadata": {},
   "outputs": [],
   "source": [
    "change1 = df1_copy.pct_change ()\n",
    "change2 = df2_copy.pct_change ()"
   ]
  },
  {
   "cell_type": "code",
   "execution_count": 145,
   "metadata": {},
   "outputs": [
    {
     "data": {
      "text/plain": [
       "Date\n",
       "2020-01-02         NaN\n",
       "2020-01-03   -0.016056\n",
       "2020-01-06    0.002956\n",
       "2020-01-07    0.003065\n",
       "2020-01-08    0.009873\n",
       "Name: Close, dtype: float64"
      ]
     },
     "execution_count": 145,
     "metadata": {},
     "output_type": "execute_result"
    }
   ],
   "source": [
    "change1.head()"
   ]
  },
  {
   "cell_type": "code",
   "execution_count": 146,
   "metadata": {},
   "outputs": [
    {
     "data": {
      "text/plain": [
       "Date\n",
       "2020-01-02         NaN\n",
       "2020-01-03    0.003735\n",
       "2020-01-06   -0.023256\n",
       "2020-01-07    0.015238\n",
       "2020-01-08   -0.040338\n",
       "Name: Close, dtype: float64"
      ]
     },
     "execution_count": 146,
     "metadata": {},
     "output_type": "execute_result"
    }
   ],
   "source": [
    "change2.head ()"
   ]
  },
  {
   "cell_type": "code",
   "execution_count": 147,
   "metadata": {},
   "outputs": [
    {
     "data": {
      "text/plain": [
       "count    62.000000\n",
       "mean     -0.003562\n",
       "std       0.035973\n",
       "min      -0.104710\n",
       "25%      -0.020162\n",
       "50%       0.000578\n",
       "75%       0.009230\n",
       "max       0.093849\n",
       "Name: Close, dtype: float64"
      ]
     },
     "execution_count": 147,
     "metadata": {},
     "output_type": "execute_result"
    }
   ],
   "source": [
    "pct_change1.describe ()"
   ]
  },
  {
   "cell_type": "code",
   "execution_count": 148,
   "metadata": {},
   "outputs": [
    {
     "data": {
      "text/plain": [
       "count    62.000000\n",
       "mean     -0.019867\n",
       "std       0.068800\n",
       "min      -0.236631\n",
       "25%      -0.041898\n",
       "50%      -0.012599\n",
       "75%       0.014333\n",
       "max       0.248567\n",
       "Name: Close, dtype: float64"
      ]
     },
     "execution_count": 148,
     "metadata": {},
     "output_type": "execute_result"
    }
   ],
   "source": [
    "pct_change2.describe ()"
   ]
  },
  {
   "cell_type": "code",
   "execution_count": 229,
   "metadata": {},
   "outputs": [
    {
     "data": {
      "text/plain": [
       "Text(0.5, 1.0, 'Frequency distribution of the closing stock prices company A')"
      ]
     },
     "execution_count": 229,
     "metadata": {},
     "output_type": "execute_result"
    },
    {
     "data": {
      "image/png": "[encoded data removed]",
      "text/plain": [
       "<Figure size 432x288 with 1 Axes>"
      ]
     },
     "metadata": {
      "needs_background": "light"
     },
     "output_type": "display_data"
    }
   ],
   "source": [
    "plt.hist(pct_change1, bins=20, rwidth = 0.95, color = 'b', edgecolor='w')\n",
    "plt.title ('Frequency distribution of the closing stock prices company A')"
   ]
  },
  {
   "cell_type": "code",
   "execution_count": 228,
   "metadata": {},
   "outputs": [
    {
     "data": {
      "text/plain": [
       "Text(0.5, 1.0, 'Frequency distribution of the closing stock prices company AA')"
      ]
     },
     "execution_count": 228,
     "metadata": {},
     "output_type": "execute_result"
    },
    {
     "data": {
      "image/png": "[encoded data removed]",
      "text/plain": [
       "<Figure size 432x288 with 1 Axes>"
      ]
     },
     "metadata": {
      "needs_background": "light"
     },
     "output_type": "display_data"
    }
   ],
   "source": [
    "plt.hist(pct_change2, bins=20, color = 'g', edgecolor='w')\n",
    "plt.title ('Frequency distribution of the closing stock prices company AA')"
   ]
  },
  {
   "cell_type": "code",
   "execution_count": 227,
   "metadata": {},
   "outputs": [
    {
     "data": {
      "text/plain": [
       "<matplotlib.legend.Legend at 0x126a14b20>"
      ]
     },
     "execution_count": 227,
     "metadata": {},
     "output_type": "execute_result"
    },
    {
     "data": {
      "image/png": "[encoded data removed]",
      "text/plain": [
       "<Figure size 432x288 with 1 Axes>"
      ]
     },
     "metadata": {
      "needs_background": "light"
     },
     "output_type": "display_data"
    }
   ],
   "source": [
    "plt.hist([pct_change1, pct_change2], bins = 20, rwidth = 0.95, color=['b', 'g'], label=['A', 'AA'])\n",
    "plt.title ('Both histograms merged together')\n",
    "plt.legend ()"
   ]
  },
  {
   "cell_type": "code",
   "execution_count": 226,
   "metadata": {},
   "outputs": [
    {
     "data": {
      "text/plain": [
       "Text(0.5, 1.0, 'The normal distribution of stocks A & AA')"
      ]
     },
     "execution_count": 226,
     "metadata": {},
     "output_type": "execute_result"
    },
    {
     "data": {
      "image/png": "[encoded data removed]",
      "text/plain": [
       "<Figure size 432x288 with 1 Axes>"
      ]
     },
     "metadata": {
      "needs_background": "light"
     },
     "output_type": "display_data"
    }
   ],
   "source": [
    "sns.distplot(pct_change1, kde_kws={'label': 'A'})\n",
    "sns.distplot(pct_change2, kde_kws={'label': 'AA'});\n",
    "plt.title ('The normal distribution of stocks A & AA')"
   ]
  },
  {
   "cell_type": "code",
   "execution_count": 194,
   "metadata": {},
   "outputs": [
    {
     "data": {
      "text/html": [
       "<div>\n",
       "<style scoped>\n",
       "    .dataframe tbody tr th:only-of-type {\n",
       "        vertical-align: middle;\n",
       "    }\n",
       "\n",
       "    .dataframe tbody tr th {\n",
       "        vertical-align: top;\n",
       "    }\n",
       "\n",
       "    .dataframe thead th {\n",
       "        text-align: right;\n",
       "    }\n",
       "</style>\n",
       "<table border=\"1\" class=\"dataframe\">\n",
       "  <thead>\n",
       "    <tr style=\"text-align: right;\">\n",
       "      <th></th>\n",
       "      <th>Close_x</th>\n",
       "      <th>Close_y</th>\n",
       "    </tr>\n",
       "    <tr>\n",
       "      <th>Date</th>\n",
       "      <th></th>\n",
       "      <th></th>\n",
       "    </tr>\n",
       "  </thead>\n",
       "  <tbody>\n",
       "    <tr>\n",
       "      <th>2020-01-03</th>\n",
       "      <td>-0.016186</td>\n",
       "      <td>0.003728</td>\n",
       "    </tr>\n",
       "    <tr>\n",
       "      <th>2020-01-06</th>\n",
       "      <td>0.002952</td>\n",
       "      <td>-0.023530</td>\n",
       "    </tr>\n",
       "    <tr>\n",
       "      <th>2020-01-07</th>\n",
       "      <td>0.003061</td>\n",
       "      <td>0.015123</td>\n",
       "    </tr>\n",
       "    <tr>\n",
       "      <th>2020-01-08</th>\n",
       "      <td>0.009825</td>\n",
       "      <td>-0.041174</td>\n",
       "    </tr>\n",
       "    <tr>\n",
       "      <th>2020-01-09</th>\n",
       "      <td>0.015590</td>\n",
       "      <td>-0.032285</td>\n",
       "    </tr>\n",
       "    <tr>\n",
       "      <th>...</th>\n",
       "      <td>...</td>\n",
       "      <td>...</td>\n",
       "    </tr>\n",
       "    <tr>\n",
       "      <th>2020-03-26</th>\n",
       "      <td>0.066168</td>\n",
       "      <td>-0.035898</td>\n",
       "    </tr>\n",
       "    <tr>\n",
       "      <th>2020-03-27</th>\n",
       "      <td>-0.038863</td>\n",
       "      <td>-0.043323</td>\n",
       "    </tr>\n",
       "    <tr>\n",
       "      <th>2020-03-30</th>\n",
       "      <td>0.024517</td>\n",
       "      <td>-0.076106</td>\n",
       "    </tr>\n",
       "    <tr>\n",
       "      <th>2020-03-31</th>\n",
       "      <td>-0.014554</td>\n",
       "      <td>0.014718</td>\n",
       "    </tr>\n",
       "    <tr>\n",
       "      <th>2020-04-01</th>\n",
       "      <td>-0.038428</td>\n",
       "      <td>0.014505</td>\n",
       "    </tr>\n",
       "  </tbody>\n",
       "</table>\n",
       "<p>62 rows × 2 columns</p>\n",
       "</div>"
      ],
      "text/plain": [
       "             Close_x   Close_y\n",
       "Date                          \n",
       "2020-01-03 -0.016186  0.003728\n",
       "2020-01-06  0.002952 -0.023530\n",
       "2020-01-07  0.003061  0.015123\n",
       "2020-01-08  0.009825 -0.041174\n",
       "2020-01-09  0.015590 -0.032285\n",
       "...              ...       ...\n",
       "2020-03-26  0.066168 -0.035898\n",
       "2020-03-27 -0.038863 -0.043323\n",
       "2020-03-30  0.024517 -0.076106\n",
       "2020-03-31 -0.014554  0.014718\n",
       "2020-04-01 -0.038428  0.014505\n",
       "\n",
       "[62 rows x 2 columns]"
      ]
     },
     "execution_count": 194,
     "metadata": {},
     "output_type": "execute_result"
    }
   ],
   "source": [
    "pct_change_old=pd.merge(pct_change1, pct_change2, on='Date', how='left')\n",
    "pct_change_old"
   ]
  },
  {
   "cell_type": "code",
   "execution_count": 219,
   "metadata": {},
   "outputs": [
    {
     "data": {
      "text/html": [
       "<div>\n",
       "<style scoped>\n",
       "    .dataframe tbody tr th:only-of-type {\n",
       "        vertical-align: middle;\n",
       "    }\n",
       "\n",
       "    .dataframe tbody tr th {\n",
       "        vertical-align: top;\n",
       "    }\n",
       "\n",
       "    .dataframe thead th {\n",
       "        text-align: right;\n",
       "    }\n",
       "</style>\n",
       "<table border=\"1\" class=\"dataframe\">\n",
       "  <thead>\n",
       "    <tr style=\"text-align: right;\">\n",
       "      <th></th>\n",
       "      <th>A_%_change</th>\n",
       "      <th>AA_%_change</th>\n",
       "    </tr>\n",
       "    <tr>\n",
       "      <th>Date</th>\n",
       "      <th></th>\n",
       "      <th></th>\n",
       "    </tr>\n",
       "  </thead>\n",
       "  <tbody>\n",
       "    <tr>\n",
       "      <th>2020-01-03</th>\n",
       "      <td>-0.016186</td>\n",
       "      <td>0.003728</td>\n",
       "    </tr>\n",
       "    <tr>\n",
       "      <th>2020-01-06</th>\n",
       "      <td>0.002952</td>\n",
       "      <td>-0.023530</td>\n",
       "    </tr>\n",
       "    <tr>\n",
       "      <th>2020-01-07</th>\n",
       "      <td>0.003061</td>\n",
       "      <td>0.015123</td>\n",
       "    </tr>\n",
       "    <tr>\n",
       "      <th>2020-01-08</th>\n",
       "      <td>0.009825</td>\n",
       "      <td>-0.041174</td>\n",
       "    </tr>\n",
       "    <tr>\n",
       "      <th>2020-01-09</th>\n",
       "      <td>0.015590</td>\n",
       "      <td>-0.032285</td>\n",
       "    </tr>\n",
       "    <tr>\n",
       "      <th>...</th>\n",
       "      <td>...</td>\n",
       "      <td>...</td>\n",
       "    </tr>\n",
       "    <tr>\n",
       "      <th>2020-03-26</th>\n",
       "      <td>0.066168</td>\n",
       "      <td>-0.035898</td>\n",
       "    </tr>\n",
       "    <tr>\n",
       "      <th>2020-03-27</th>\n",
       "      <td>-0.038863</td>\n",
       "      <td>-0.043323</td>\n",
       "    </tr>\n",
       "    <tr>\n",
       "      <th>2020-03-30</th>\n",
       "      <td>0.024517</td>\n",
       "      <td>-0.076106</td>\n",
       "    </tr>\n",
       "    <tr>\n",
       "      <th>2020-03-31</th>\n",
       "      <td>-0.014554</td>\n",
       "      <td>0.014718</td>\n",
       "    </tr>\n",
       "    <tr>\n",
       "      <th>2020-04-01</th>\n",
       "      <td>-0.038428</td>\n",
       "      <td>0.014505</td>\n",
       "    </tr>\n",
       "  </tbody>\n",
       "</table>\n",
       "<p>62 rows × 2 columns</p>\n",
       "</div>"
      ],
      "text/plain": [
       "            A_%_change  AA_%_change\n",
       "Date                               \n",
       "2020-01-03   -0.016186     0.003728\n",
       "2020-01-06    0.002952    -0.023530\n",
       "2020-01-07    0.003061     0.015123\n",
       "2020-01-08    0.009825    -0.041174\n",
       "2020-01-09    0.015590    -0.032285\n",
       "...                ...          ...\n",
       "2020-03-26    0.066168    -0.035898\n",
       "2020-03-27   -0.038863    -0.043323\n",
       "2020-03-30    0.024517    -0.076106\n",
       "2020-03-31   -0.014554     0.014718\n",
       "2020-04-01   -0.038428     0.014505\n",
       "\n",
       "[62 rows x 2 columns]"
      ]
     },
     "execution_count": 219,
     "metadata": {},
     "output_type": "execute_result"
    }
   ],
   "source": [
    "pct_change = pct_change_old.rename(columns={'Close_x': 'A_%_change', 'Close_y': 'AA_%_change'})\n",
    "pct_change"
   ]
  },
  {
   "cell_type": "code",
   "execution_count": 230,
   "metadata": {},
   "outputs": [
    {
     "data": {
      "image/png": "[encoded data removed]",
      "text/plain": [
       "<Figure size 432x288 with 1 Axes>"
      ]
     },
     "metadata": {
      "needs_background": "light"
     },
     "output_type": "display_data"
    }
   ],
   "source": [
    "sns.scatterplot(pct_change ['A_%_change'], pct_change ['AA_%_change'], color = 'b', alpha = 0.6)\n",
    "plt.title('Relation between A & AA')\n",
    "plt.show ()"
   ]
  },
  {
   "cell_type": "code",
   "execution_count": 231,
   "metadata": {},
   "outputs": [
    {
     "data": {
      "text/html": [
       "<div>\n",
       "<style scoped>\n",
       "    .dataframe tbody tr th:only-of-type {\n",
       "        vertical-align: middle;\n",
       "    }\n",
       "\n",
       "    .dataframe tbody tr th {\n",
       "        vertical-align: top;\n",
       "    }\n",
       "\n",
       "    .dataframe thead th {\n",
       "        text-align: right;\n",
       "    }\n",
       "</style>\n",
       "<table border=\"1\" class=\"dataframe\">\n",
       "  <thead>\n",
       "    <tr style=\"text-align: right;\">\n",
       "      <th></th>\n",
       "      <th>A_%_change</th>\n",
       "      <th>AA_%_change</th>\n",
       "    </tr>\n",
       "  </thead>\n",
       "  <tbody>\n",
       "    <tr>\n",
       "      <th>A_%_change</th>\n",
       "      <td>1.000000</td>\n",
       "      <td>0.557938</td>\n",
       "    </tr>\n",
       "    <tr>\n",
       "      <th>AA_%_change</th>\n",
       "      <td>0.557938</td>\n",
       "      <td>1.000000</td>\n",
       "    </tr>\n",
       "  </tbody>\n",
       "</table>\n",
       "</div>"
      ],
      "text/plain": [
       "             A_%_change  AA_%_change\n",
       "A_%_change     1.000000     0.557938\n",
       "AA_%_change    0.557938     1.000000"
      ]
     },
     "execution_count": 231,
     "metadata": {},
     "output_type": "execute_result"
    }
   ],
   "source": [
    "pct_change.corr ()"
   ]
  },
  {
   "cell_type": "code",
   "execution_count": 232,
   "metadata": {},
   "outputs": [
    {
     "data": {
      "text/plain": [
       "<seaborn.axisgrid.PairGrid at 0x126c8dc10>"
      ]
     },
     "execution_count": 232,
     "metadata": {},
     "output_type": "execute_result"
    },
    {
     "data": {
      "image/png": "[encoded data removed]",
      "text/plain": [
       "<Figure size 360x360 with 6 Axes>"
      ]
     },
     "metadata": {
      "needs_background": "light"
     },
     "output_type": "display_data"
    }
   ],
   "source": [
    "sns.pairplot(pct_change)"
   ]
  },
  {
   "cell_type": "code",
   "execution_count": null,
   "metadata": {},
   "outputs": [],
   "source": []
  }
 ],
 "metadata": {
  "kernelspec": {
   "display_name": "Python 3",
   "language": "python",
   "name": "python3"
  },
  "language_info": {
   "codemirror_mode": {
    "name": "ipython",
    "version": 3
   },
   "file_extension": ".py",
   "mimetype": "text/x-python",
   "name": "python",
   "nbconvert_exporter": "python",
   "pygments_lexer": "ipython3",
   "version": "3.8.3"
  }
 },
 "nbformat": 4,
 "nbformat_minor": 4
}
